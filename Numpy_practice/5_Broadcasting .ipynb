{
 "cells": [
  {
   "cell_type": "code",
   "execution_count": 1,
   "metadata": {
    "collapsed": true
   },
   "outputs": [],
   "source": [
    "import numpy as np"
   ]
  },
  {
   "cell_type": "code",
   "execution_count": 9,
   "metadata": {},
   "outputs": [
    {
     "name": "stdout",
     "output_type": "stream",
     "text": [
      "[[ 1.  1.  1.]\n",
      " [ 1.  1.  1.]]\n",
      "[0 1 2]\n",
      "M.shape = (2, 3)\n",
      "a.shape = (3,)\n"
     ]
    }
   ],
   "source": [
    "M = np.ones((2,3))\n",
    "a = np.arange(3)\n",
    "print(M)\n",
    "print(a)\n",
    "print(\"M.shape =\", M.shape)\n",
    "print(\"a.shape =\", a.shape)"
   ]
  },
  {
   "cell_type": "code",
   "execution_count": 10,
   "metadata": {},
   "outputs": [
    {
     "name": "stdout",
     "output_type": "stream",
     "text": [
      "[[ 0.83816689  0.14101576  0.42679484]\n",
      " [ 0.57356432  0.55970888  0.014874  ]\n",
      " [ 0.8810515   0.23201905  0.41277018]\n",
      " [ 0.97049221  0.78113475  0.22034725]\n",
      " [ 0.36471474  0.38477556  0.90329284]\n",
      " [ 0.61562418  0.16413364  0.74577332]\n",
      " [ 0.40279939  0.52813011  0.68686853]\n",
      " [ 0.64139036  0.4677648   0.30523615]\n",
      " [ 0.24083888  0.55593685  0.02738386]\n",
      " [ 0.73407097  0.48444573  0.99207433]]\n"
     ]
    }
   ],
   "source": [
    "X = np.random.random((10, 3))\n",
    "print(X)"
   ]
  },
  {
   "cell_type": "code",
   "execution_count": 18,
   "metadata": {},
   "outputs": [
    {
     "data": {
      "text/plain": [
       "array([ 0.62627134,  0.42990651,  0.47354153])"
      ]
     },
     "execution_count": 18,
     "metadata": {},
     "output_type": "execute_result"
    }
   ],
   "source": [
    "Xmean = X.mean(0)\n",
    "Xmean"
   ]
  },
  {
   "cell_type": "code",
   "execution_count": 19,
   "metadata": {},
   "outputs": [
    {
     "data": {
      "text/plain": [
       "array([[ 0.21189554, -0.28889075, -0.04674669],\n",
       "       [-0.05270702,  0.12980236, -0.45866753],\n",
       "       [ 0.25478016, -0.19788746, -0.06077135],\n",
       "       [ 0.34422086,  0.35122824, -0.25319428],\n",
       "       [-0.2615566 , -0.04513095,  0.42975131],\n",
       "       [-0.01064716, -0.26577287,  0.27223179],\n",
       "       [-0.22347196,  0.0982236 ,  0.213327  ],\n",
       "       [ 0.01511902,  0.03785828, -0.16830538],\n",
       "       [-0.38543247,  0.12603034, -0.44615767],\n",
       "       [ 0.10779963,  0.05453922,  0.5185328 ]])"
      ]
     },
     "execution_count": 19,
     "metadata": {},
     "output_type": "execute_result"
    }
   ],
   "source": [
    "X_centered = X - Xmean\n",
    "X_centered"
   ]
  },
  {
   "cell_type": "code",
   "execution_count": 20,
   "metadata": {},
   "outputs": [
    {
     "data": {
      "text/plain": [
       "array([  5.55111512e-17,  -1.11022302e-17,   2.22044605e-17])"
      ]
     },
     "execution_count": 20,
     "metadata": {},
     "output_type": "execute_result"
    }
   ],
   "source": [
    "X_centered.mean(0)"
   ]
  },
  {
   "cell_type": "code",
   "execution_count": null,
   "metadata": {
    "collapsed": true
   },
   "outputs": [],
   "source": []
  }
 ],
 "metadata": {
  "kernelspec": {
   "display_name": "Python 3",
   "language": "python",
   "name": "python3"
  },
  "language_info": {
   "codemirror_mode": {
    "name": "ipython",
    "version": 3
   },
   "file_extension": ".py",
   "mimetype": "text/x-python",
   "name": "python",
   "nbconvert_exporter": "python",
   "pygments_lexer": "ipython3",
   "version": "3.6.3"
  }
 },
 "nbformat": 4,
 "nbformat_minor": 2
}
