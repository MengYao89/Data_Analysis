{
 "cells": [
  {
   "cell_type": "code",
   "execution_count": 10,
   "metadata": {},
   "outputs": [],
   "source": [
    "import numpy as np\n",
    "\n",
    "# dataset of minist\n",
    "from keras.datasets import mnist\n",
    "\n",
    "from keras.models import Sequential\n",
    "from keras.layers import Dense, Activation, Dropout, Flatten\n",
    "from keras.layers import Conv2D, MaxPooling2D\n",
    "\n",
    "from keras.utils import np_utils\n",
    "\n",
    "# Data visualization\n",
    "%matplotlib inline\n",
    "import matplotlib.pyplot as plt"
   ]
  },
  {
   "cell_type": "code",
   "execution_count": 30,
   "metadata": {},
   "outputs": [
    {
     "name": "stdout",
     "output_type": "stream",
     "text": [
      "Training data size:  60000\n",
      "Test data size:  10000\n",
      "Image size: 28*28\n"
     ]
    }
   ],
   "source": [
    "# Prepare data sets\n",
    "(X_train, y_train), (X_test, y_test) = mnist.load_data()\n",
    "print('Training data size: ', X_train.shape[0])\n",
    "print('Test data size: ', X_test.shape[0])\n",
    "\n",
    "n_sample, image_row, image_col = X_train.shape\n",
    "print('Image size: {}*{}'.format(image_row, image_col))\n",
    "\n",
    "X_train = X_train.reshape(X_train.shape[0], image_row, image_col, 1).astype('float32')\n",
    "X_test = X_test.reshape(X_test.shape[0], image_row, image_col, 1).astype('float32')\n",
    "input_shape = (image_row, image_col, 1)\n",
    "\n",
    "nb_classes = 10\n",
    "\n",
    "# one hot representation\n",
    "y_train = np_utils.to_categorical(y_train, nb_classes)\n",
    "y_test = np_utils.to_categorical(y_test, nb_classes)"
   ]
  },
  {
   "cell_type": "code",
   "execution_count": 28,
   "metadata": {},
   "outputs": [
    {
     "data": {
      "image/png": "[encoded data removed]",
      "text/plain": [
       "<matplotlib.figure.Figure at 0x1399d77f0>"
      ]
     },
     "metadata": {},
     "output_type": "display_data"
    }
   ],
   "source": [
    "fig, ax = plt.subplots(3, 5, figsize=(8, 6))\n",
    "\n",
    "for i, axi in enumerate(ax.flat):\n",
    "    axi.imshow(X_train[i].reshape(28,28), cmap='gray')\n",
    "    axi.axis('off')\n",
    "plt.show()"
   ]
  },
  {
   "cell_type": "code",
   "execution_count": 3,
   "metadata": {},
   "outputs": [],
   "source": [
    "# Define the CNN model\n",
    "\n",
    "# feature map size\n",
    "fm_size = 32\n",
    "# Pooling\n",
    "pool_size = (2, 2)\n",
    "# Kernel\n",
    "kernel_size = (3,3)\n",
    "\n",
    "model = Sequential()\n",
    "# first conv layer\n",
    "model.add(Conv2D(fm_size, kernel_size, padding='valid', input_shape=input_shape))\n",
    "model.add(Activation('relu'))\n",
    "model.add(MaxPooling2D(pool_size=pool_size))\n",
    "\n",
    "# second conv layer\n",
    "model.add(Conv2D(fm_size, kernel_size))\n",
    "model.add(Activation('relu'))\n",
    "model.add(MaxPooling2D(pool_size=pool_size))\n",
    "# model.add(Dropout(0.25))\n",
    "\n",
    "# flatten\n",
    "model.add(Flatten())\n",
    "\n",
    "# last dense layer\n",
    "model.add(Dense(128))\n",
    "model.add(Activation('relu'))\n",
    "model.add(Dropout(0.5))\n",
    "\n",
    "model.add(Dense(nb_classes))\n",
    "model.add(Activation('softmax'))"
   ]
  },
  {
   "cell_type": "code",
   "execution_count": 7,
   "metadata": {},
   "outputs": [],
   "source": [
    "# Compilation\n",
    "# optimizer adadelta = 0.9463, sgd = 0.9461\n",
    "\n",
    "model.compile(optimizer='sgd', loss='categorical_crossentropy', metrics=['accuracy'])"
   ]
  },
  {
   "cell_type": "code",
   "execution_count": 8,
   "metadata": {},
   "outputs": [
    {
     "name": "stdout",
     "output_type": "stream",
     "text": [
      "Train on 60000 samples, validate on 10000 samples\n",
      "Epoch 1/1\n",
      "60000/60000 [==============================] - 46s 762us/step - loss: 0.3493 - acc: 0.8997 - val_loss: 0.1220 - val_acc: 0.9641\n"
     ]
    },
    {
     "data": {
      "text/plain": [
       "<keras.callbacks.History at 0x128f3e2e8>"
      ]
     },
     "execution_count": 8,
     "metadata": {},
     "output_type": "execute_result"
    }
   ],
   "source": [
    "# Trainning\n",
    "batch_size = 100\n",
    "epochs = 1\n",
    "\n",
    "model.fit(X_train, y_train, batch_size=batch_size, epochs=epochs, verbose=1, validation_data=(X_test, y_test))"
   ]
  },
  {
   "cell_type": "code",
   "execution_count": 9,
   "metadata": {},
   "outputs": [
    {
     "name": "stdout",
     "output_type": "stream",
     "text": [
      "Test Metrics:[0.12201269393423572, 0.9641]\n"
     ]
    }
   ],
   "source": [
    "# # Evaluation\n",
    "# score = model.evaluate(X_test, y_test, verbose=0)\n",
    "# print(\"Test Metrics:{}\".format(score))"
   ]
  }
 ],
 "metadata": {
  "kernelspec": {
   "display_name": "Python 3",
   "language": "python",
   "name": "python3"
  },
  "language_info": {
   "codemirror_mode": {
    "name": "ipython",
    "version": 3
   },
   "file_extension": ".py",
   "mimetype": "text/x-python",
   "name": "python",
   "nbconvert_exporter": "python",
   "pygments_lexer": "ipython3",
   "version": "3.6.4"
  }
 },
 "nbformat": 4,
 "nbformat_minor": 2
}
