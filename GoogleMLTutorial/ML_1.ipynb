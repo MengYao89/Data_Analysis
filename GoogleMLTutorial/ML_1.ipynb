{
 "cells": [
  {
   "cell_type": "code",
   "execution_count": 17,
   "metadata": {},
   "outputs": [
    {
     "name": "stdout",
     "output_type": "stream",
     "text": [
      "Old features is  [[140, 'Smooth'], [130, 'Smooth'], [135, 'Smooth'], [150, 'Bumpy'], [155, 'Bumpy'], [140, 'Smooth'], [150, 'Bumpy']]\n",
      "Old labels is  ['apple', 'apple', 'apple', 'orange', 'orange', 'apple', 'orange']\n",
      "--------------------------------------------------\n",
      "New features is  [[140, 1], [130, 1], [135, 1], [150, 2], [155, 2], [140, 1], [150, 2]]\n",
      "New labels is  [1, 1, 1, 2, 2, 1, 2]\n",
      "Result of [143, 1] is  [1]\n"
     ]
    }
   ],
   "source": [
    "from sklearn import tree\n",
    "\n",
    "features = [[140, 'Smooth'],[130, 'Smooth'],[135, 'Smooth'],[150, 'Bumpy'],[155, 'Bumpy'],[140, 'Smooth'],[150, 'Bumpy']]\n",
    "labels = ['apple', 'apple', 'apple', 'orange', 'orange', 'apple', 'orange']\n",
    "print('Old features is ', features)\n",
    "print('Old labels is ', labels)\n",
    "\n",
    "# data cleaning\n",
    "# data transformation\n",
    "# Smooth = 1, Bumpy = 2\n",
    "# apple = 1, orange = 2\n",
    "\n",
    "print('--------------------------------------------------')\n",
    "\n",
    "for fe in features:\n",
    "    if fe[1] is 'Smooth':\n",
    "        fe[1] = 1\n",
    "    else:\n",
    "        fe[1] = 2\n",
    "\n",
    "for index in range(len(labels)):\n",
    "    if labels[index] is 'apple':\n",
    "        labels[index] = 1\n",
    "    else:\n",
    "        labels[index] = 2\n",
    "        \n",
    "print('New features is ', features)\n",
    "print('New labels is ', labels)\n",
    "\n",
    "model = tree.DecisionTreeClassifier()\n",
    "model.fit(features, labels)\n",
    "\n",
    "newValue = [143, 1]\n",
    "\n",
    "print('Result of [143, 1] is ', model.predict([newValue]))"
   ]
  },
  {
   "cell_type": "code",
   "execution_count": null,
   "metadata": {
    "collapsed": true
   },
   "outputs": [],
   "source": []
  }
 ],
 "metadata": {
  "kernelspec": {
   "display_name": "Python 3",
   "language": "python",
   "name": "python3"
  },
  "language_info": {
   "codemirror_mode": {
    "name": "ipython",
    "version": 3
   },
   "file_extension": ".py",
   "mimetype": "text/x-python",
   "name": "python",
   "nbconvert_exporter": "python",
   "pygments_lexer": "ipython3",
   "version": "3.6.3"
  }
 },
 "nbformat": 4,
 "nbformat_minor": 2
}
