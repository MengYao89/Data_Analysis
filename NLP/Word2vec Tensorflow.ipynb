{
 "cells": [
  {
   "cell_type": "markdown",
   "metadata": {},
   "source": [
    "# Word2vec tensorflow impl"
   ]
  },
  {
   "cell_type": "code",
   "execution_count": 47,
   "metadata": {},
   "outputs": [],
   "source": [
    "import numpy as np\n",
    "import tensorflow as tf\n",
    "from nltk.tokenize import sent_tokenize, word_tokenize"
   ]
  },
  {
   "cell_type": "code",
   "execution_count": 48,
   "metadata": {},
   "outputs": [
    {
     "data": {
      "text/plain": [
       "'he is the king. the king is royal. she is the royal queen.'"
      ]
     },
     "execution_count": 48,
     "metadata": {},
     "output_type": "execute_result"
    }
   ],
   "source": [
    "corpus_raw = 'He is the king. The king is royal. She is the royal queen.'\n",
    "\n",
    "# convert to lower case\n",
    "corpus_raw_lower = corpus_raw.lower()\n",
    "corpus_raw_lower"
   ]
  },
  {
   "cell_type": "code",
   "execution_count": 49,
   "metadata": {},
   "outputs": [
    {
     "name": "stdout",
     "output_type": "stream",
     "text": [
      "{'she', 'queen', 'the', 'king', 'he', 'royal', 'is'}\n"
     ]
    }
   ],
   "source": [
    "words = set(word for word in word_tokenize(corpus_raw_lower) if word != '.')\n",
    "print(words)\n",
    "\n",
    "word2int={}\n",
    "int2word={}\n",
    "\n",
    "vocab_size = len(words)\n",
    "\n",
    "for index, word in enumerate(words):\n",
    "    word2int[word] = index\n",
    "    int2word[index] = word"
   ]
  },
  {
   "cell_type": "code",
   "execution_count": 50,
   "metadata": {},
   "outputs": [
    {
     "name": "stdout",
     "output_type": "stream",
     "text": [
      "1\n",
      "king\n"
     ]
    }
   ],
   "source": [
    "print(word2int['queen'])\n",
    "print(int2word[3])"
   ]
  },
  {
   "cell_type": "code",
   "execution_count": 51,
   "metadata": {},
   "outputs": [
    {
     "data": {
      "text/plain": [
       "[['he', 'is', 'the', 'king'],\n",
       " ['the', 'king', 'is', 'royal'],\n",
       " ['she', 'is', 'the', 'royal', 'queen']]"
      ]
     },
     "execution_count": 51,
     "metadata": {},
     "output_type": "execute_result"
    }
   ],
   "source": [
    "sentences = [[word for word in word_tokenize(sent) if word !='.'] for sent in sent_tokenize(corpus_raw_lower)]\n",
    "sentences"
   ]
  },
  {
   "cell_type": "code",
   "execution_count": 52,
   "metadata": {},
   "outputs": [
    {
     "name": "stdout",
     "output_type": "stream",
     "text": [
      "[['he', 'is'], ['he', 'the'], ['is', 'he'], ['is', 'the'], ['is', 'king'], ['the', 'he'], ['the', 'is'], ['the', 'king'], ['king', 'is'], ['king', 'the'], ['the', 'king'], ['the', 'is'], ['king', 'the'], ['king', 'is'], ['king', 'royal'], ['is', 'the'], ['is', 'king'], ['is', 'royal'], ['royal', 'king'], ['royal', 'is'], ['she', 'is'], ['she', 'the'], ['is', 'she'], ['is', 'the'], ['is', 'royal'], ['the', 'she'], ['the', 'is'], ['the', 'royal'], ['the', 'queen'], ['royal', 'is'], ['royal', 'the'], ['royal', 'queen'], ['queen', 'the'], ['queen', 'royal']]\n"
     ]
    }
   ],
   "source": [
    "# trainning data\n",
    "data = []\n",
    "WINDOW_SIZE = 2\n",
    "\n",
    "for sentence in sentences:\n",
    "    for word_idx, word in enumerate(sentence):\n",
    "        for context_word in sentence[max(word_idx - WINDOW_SIZE, 0):min(word_idx + WINDOW_SIZE, len(sentence)) + 1] : \n",
    "            if context_word != word:\n",
    "                data.append([word, context_word])\n",
    "\n",
    "print(data)"
   ]
  },
  {
   "cell_type": "code",
   "execution_count": 55,
   "metadata": {},
   "outputs": [],
   "source": [
    "def to_one_hot(word_index, vocab_size):\n",
    "    temp = np.zeros(vocab_size)\n",
    "    temp[word_index] = 1\n",
    "    return temp"
   ]
  },
  {
   "cell_type": "code",
   "execution_count": 62,
   "metadata": {},
   "outputs": [],
   "source": [
    "x_train = [] # input word\n",
    "y_train = [] # output word\n",
    "\n",
    "for input_word, output_word in data:\n",
    "    x_train.append(to_one_hot(word2int[input_word], vocab_size))\n",
    "    y_train.append(to_one_hot(word2int[output_word], vocab_size))\n",
    "                   \n",
    "x_train = np.asarray(x_train)\n",
    "y_train = np.asarray(y_train)"
   ]
  },
  {
   "cell_type": "code",
   "execution_count": 64,
   "metadata": {},
   "outputs": [
    {
     "name": "stdout",
     "output_type": "stream",
     "text": [
      "x shape:  (34, 7)\n",
      "y shape:  (34, 7)\n"
     ]
    }
   ],
   "source": [
    "print('x shape: ', x_train.shape)\n",
    "print('y shape: ', y_train.shape)"
   ]
  },
  {
   "cell_type": "code",
   "execution_count": null,
   "metadata": {},
   "outputs": [],
   "source": []
  },
  {
   "cell_type": "code",
   "execution_count": 74,
   "metadata": {},
   "outputs": [],
   "source": [
    "x = tf.placeholder(tf.float32, shape=(None, vocab_size), name='input_word')\n",
    "y = tf.placeholder(tf.float32, shape=(None, vocab_size), name='output_word')\n",
    "\n",
    "EMBEDDING_DIM = 5\n",
    "\n",
    "W1 = tf.Variable(tf.random_normal([vocab_size, EMBEDDING_DIM]))\n",
    "b1 = tf.Variable(tf.random_normal([EMBEDDING_DIM]))\n",
    "\n",
    "hidden_representation = tf.add(tf.matmul(x, W1), b1)\n",
    "\n",
    "W2 = tf.Variable(tf.random_normal([EMBEDDING_DIM, vocab_size]))\n",
    "b2 = tf.Variable(tf.random_normal([vocab_size]))\n",
    "\n",
    "prediction = tf.nn.softmax(tf.add(tf.matmul(hidden_representation, W2), b2))"
   ]
  },
  {
   "cell_type": "code",
   "execution_count": 87,
   "metadata": {},
   "outputs": [
    {
     "name": "stdout",
     "output_type": "stream",
     "text": [
      "[[-0.4616795  -0.7554153  -0.72968066 -0.06520873 -0.793494  ]\n",
      " [ 0.9333521  -0.34531945 -0.69240093  0.7342201  -2.0610204 ]\n",
      " [ 2.0102563  -0.26171118  0.4310136  -1.6687319  -0.6300094 ]\n",
      " [ 0.17167017 -1.1180968  -1.0076189  -0.04077378 -2.2900486 ]\n",
      " [-1.5176055  -1.462054   -0.6837474   0.01302123 -1.51083   ]\n",
      " [-0.01195743 -1.2185957   1.0184906  -1.202682   -2.8647263 ]\n",
      " [ 1.6805906   0.4025997   1.079875    1.0438187  -0.9559208 ]]\n"
     ]
    }
   ],
   "source": [
    "with tf.Session() as sess:\n",
    "    init = tf.global_variables_initializer()\n",
    "    sess.run(init)\n",
    "    \n",
    "#     cross_entropy_loss = tf.nn.softmax_cross_entropy_with_logits(labels=y, logits=prediction)\n",
    "    cross_entropy_loss = tf.reduce_mean(-tf.reduce_sum(y * tf.log(prediction), reduction_indices=[1]))\n",
    "    optimizer = tf.train.GradientDescentOptimizer(0.1).minimize(cross_entropy_loss)\n",
    "    \n",
    "    for _ in range(1000):\n",
    "        _, cross_lost = sess.run([optimizer, cross_entropy_loss], feed_dict={\n",
    "            x: x_train, \n",
    "            y: y_train\n",
    "        })\n",
    "#         print('loss is: ', cross_lost)\n",
    "    \n",
    "#     print(sess.run(W1))\n",
    "#     print(sess.run(b1))\n",
    "    \n",
    "    vectors = sess.run(tf.add(W1, b1))\n",
    "    print(vectors)"
   ]
  },
  {
   "cell_type": "code",
   "execution_count": 88,
   "metadata": {},
   "outputs": [
    {
     "name": "stdout",
     "output_type": "stream",
     "text": [
      "[ 0.9333521  -0.34531945 -0.69240093  0.7342201  -2.0610204 ]\n"
     ]
    }
   ],
   "source": [
    "print(vectors[word2int['queen']])"
   ]
  },
  {
   "cell_type": "code",
   "execution_count": 91,
   "metadata": {},
   "outputs": [],
   "source": [
    "def euclidean_dist(vec1, vec2):\n",
    "    return np.sqrt(np.sum((vec1-vec2) ** 2))\n",
    "\n",
    "def find_closest(word_index, vectors):\n",
    "    min_dist = 100000\n",
    "    min_index = -1\n",
    "    \n",
    "    query_vector = vectors[word_index]\n",
    "    \n",
    "    for index, vec in enumerate(vectors):\n",
    "        if euclidean_dist(vec, query_vector) < min_dist and not np.array_equal(vec, query_vector):\n",
    "            min_dist = euclidean_dist(vec, query_vector)\n",
    "            min_index=index\n",
    "    return min_index"
   ]
  },
  {
   "cell_type": "code",
   "execution_count": 93,
   "metadata": {},
   "outputs": [
    {
     "name": "stdout",
     "output_type": "stream",
     "text": [
      "queen\n",
      "king\n"
     ]
    }
   ],
   "source": [
    "print(int2word[find_closest(word2int['king'], vectors)])\n",
    "print(int2word[find_closest(word2int['queen'], vectors)])"
   ]
  },
  {
   "cell_type": "code",
   "execution_count": null,
   "metadata": {},
   "outputs": [],
   "source": []
  }
 ],
 "metadata": {
  "kernelspec": {
   "display_name": "Python 3",
   "language": "python",
   "name": "python3"
  },
  "language_info": {
   "codemirror_mode": {
    "name": "ipython",
    "version": 3
   },
   "file_extension": ".py",
   "mimetype": "text/x-python",
   "name": "python",
   "nbconvert_exporter": "python",
   "pygments_lexer": "ipython3",
   "version": "3.6.4"
  }
 },
 "nbformat": 4,
 "nbformat_minor": 2
}
