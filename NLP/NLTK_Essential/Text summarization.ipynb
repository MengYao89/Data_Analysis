{
 "cells": [
  {
   "cell_type": "code",
   "execution_count": 1,
   "metadata": {},
   "outputs": [],
   "source": [
    "import sys"
   ]
  },
  {
   "cell_type": "code",
   "execution_count": 4,
   "metadata": {},
   "outputs": [],
   "source": [
    "f = open('./ssp.txt')\n",
    "news_content = f.read()"
   ]
  },
  {
   "cell_type": "code",
   "execution_count": 11,
   "metadata": {},
   "outputs": [
    {
     "data": {
      "text/plain": [
       "[(19,\n",
       "  46,\n",
       "  5,\n",
       "  15,\n",
       "  0.43478260869565216,\n",
       "  '“Carbon storage as an ecosystem service can’t be just reduced to soil carbon,” said Marco Keiluweit, an assistant professor of soils and the environment at the University of Massachusetts, Amherst, who was not involved with the study.'),\n",
       " (5,\n",
       "  15,\n",
       "  1,\n",
       "  5,\n",
       "  0.4,\n",
       "  'Parents would often send their children outside to observe Ms. Ziter’s work.'),\n",
       " (0,\n",
       "  66,\n",
       "  3,\n",
       "  21,\n",
       "  0.36363636363636365,\n",
       "  'A Secret Superpower, Right in Your Backyard\\n\\nAs the verdant hills of Wakanda are secretly enriched with the fictional metal vibranium in “Black Panther,” your average backyard also has hidden superpowers: Its soil can absorb and store a significant amount of carbon from the air, unexpectedly making such green spaces an important asset in the battle against climate change.')]"
      ]
     },
     "execution_count": 11,
     "metadata": {},
     "output_type": "execute_result"
    }
   ],
   "source": [
    "import nltk\n",
    "result = []\n",
    "\n",
    "for sent_no, sentence in enumerate(nltk.sent_tokenize(news_content)):\n",
    "    # number of tokens in each sentence\n",
    "    no_of_tokens = len(nltk.word_tokenize(sentence))\n",
    "    \n",
    "    # POS tagging\n",
    "    tagged = nltk.pos_tag(nltk.word_tokenize(sentence))\n",
    "    \n",
    "    # count the number of Nouns in the sentence\n",
    "    no_of_nouns = len([word for word, pos in tagged if pos in ['NN', 'NNP']])\n",
    "    \n",
    "    # use NER to tag the nameed entities\n",
    "    ners = nltk.ne_chunk(nltk.pos_tag(nltk.word_tokenize(sentence)), binary=False)\n",
    "    \n",
    "    no_of_ners = len([chunk for chunk in ners if hasattr(chunk, 'label')])\n",
    "    \n",
    "    score = (no_of_ners + no_of_nouns) / float(no_of_tokens)\n",
    "    \n",
    "    result.append((sent_no, no_of_tokens, no_of_ners, no_of_nouns, score, sentence))\n",
    "    \n",
    "sorted_result = sorted(result, key=lambda x: x[4], reverse=True)\n",
    "sorted_result[:3]"
   ]
  },
  {
   "cell_type": "code",
   "execution_count": 12,
   "metadata": {},
   "outputs": [],
   "source": [
    "from sklearn.feature_extraction.text import TfidfVectorizer"
   ]
  },
  {
   "cell_type": "code",
   "execution_count": 23,
   "metadata": {},
   "outputs": [],
   "source": [
    "result_2 = []\n",
    "content = '''NLTK is a leading platform for building Python programs to work with human language data. It provides easy-to-use interfaces to over 50 corpora and lexical resources such as WordNet, along with a suite of text processing libraries for classification, tokenization, stemming, tagging, parsing, and semantic reasoning, wrappers for industrial-strength NLP libraries, and an active discussion forum.\n",
    "\n",
    "Thanks to a hands-on guide introducing programming fundamentals alongside topics in computational linguistics, plus comprehensive API documentation, NLTK is suitable for linguists, engineers, students, educators, researchers, and industry users alike. NLTK is available for Windows, Mac OS X, and Linux. Best of all, NLTK is a free, open source, community-driven project.\n",
    "\n",
    "NLTK has been called “a wonderful tool for teaching, and working in, computational linguistics using Python,” and “an amazing library to play with natural language.”\n",
    "\n",
    "Natural Language Processing with Python provides a practical introduction to programming for language processing. Written by the creators of NLTK, it guides the reader through the fundamentals of writing Python programs, working with corpora, categorizing text, analyzing linguistic structure, and more. The book is being updated for Python 3 and NLTK 3. (The original Python 2 version is still available at http://nltk.org/book_1ed.)'''"
   ]
  },
  {
   "cell_type": "code",
   "execution_count": 25,
   "metadata": {},
   "outputs": [
    {
     "name": "stdout",
     "output_type": "stream",
     "text": [
      "0 --> NLTK is a leading platform for building Python programs to work with human language data.\n",
      "1 --> It provides easy-to-use interfaces to over 50 corpora and lexical resources such as WordNet, along with a suite of text processing libraries for classification, tokenization, stemming, tagging, parsing, and semantic reasoning, wrappers for industrial-strength NLP libraries, and an active discussion forum.\n",
      "2 --> Thanks to a hands-on guide introducing programming fundamentals alongside topics in computational linguistics, plus comprehensive API documentation, NLTK is suitable for linguists, engineers, students, educators, researchers, and industry users alike.\n",
      "3 --> NLTK is available for Windows, Mac OS X, and Linux.\n",
      "4 --> Best of all, NLTK is a free, open source, community-driven project.\n",
      "5 --> NLTK has been called “a wonderful tool for teaching, and working in, computational linguistics using Python,” and “an amazing library to play with natural language.”\n",
      "\n",
      "Natural Language Processing with Python provides a practical introduction to programming for language processing.\n",
      "6 --> Written by the creators of NLTK, it guides the reader through the fundamentals of writing Python programs, working with corpora, categorizing text, analyzing linguistic structure, and more.\n",
      "7 --> The book is being updated for Python 3 and NLTK 3.\n",
      "8 --> (The original Python 2 version is still available at http://nltk.org/book_1ed.)\n"
     ]
    }
   ],
   "source": [
    "sentences = nltk.sent_tokenize(content)\n",
    "for no, sent in enumerate(sentences):\n",
    "    print(no, '-->', sent)"
   ]
  },
  {
   "cell_type": "code",
   "execution_count": null,
   "metadata": {},
   "outputs": [],
   "source": []
  },
  {
   "cell_type": "code",
   "execution_count": null,
   "metadata": {},
   "outputs": [],
   "source": []
  },
  {
   "cell_type": "code",
   "execution_count": null,
   "metadata": {},
   "outputs": [],
   "source": []
  },
  {
   "cell_type": "code",
   "execution_count": null,
   "metadata": {},
   "outputs": [],
   "source": []
  }
 ],
 "metadata": {
  "kernelspec": {
   "display_name": "Python 3",
   "language": "python",
   "name": "python3"
  },
  "language_info": {
   "codemirror_mode": {
    "name": "ipython",
    "version": 3
   },
   "file_extension": ".py",
   "mimetype": "text/x-python",
   "name": "python",
   "nbconvert_exporter": "python",
   "pygments_lexer": "ipython3",
   "version": "3.6.4"
  }
 },
 "nbformat": 4,
 "nbformat_minor": 2
}
