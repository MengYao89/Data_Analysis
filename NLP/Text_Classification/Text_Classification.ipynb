{
 "cells": [
  {
   "cell_type": "markdown",
   "metadata": {},
   "source": [
    "## NLP Preprocessing"
   ]
  },
  {
   "cell_type": "code",
   "execution_count": 1,
   "metadata": {},
   "outputs": [],
   "source": [
    "import nltk\n",
    "from nltk.corpus import stopwords\n",
    "from nltk.stem import WordNetLemmatizer\n",
    "import csv"
   ]
  },
  {
   "cell_type": "code",
   "execution_count": 2,
   "metadata": {},
   "outputs": [],
   "source": [
    "def preprocessing(text):\n",
    "    #text = text.decode('utf8')\n",
    "    \n",
    "    # tokenize into words\n",
    "    tokens = [word for sent in nltk.sent_tokenize(text) for word in nltk.word_tokenize(sent)]\n",
    "    \n",
    "    # stop word removal\n",
    "    stop = stopwords.words('english')\n",
    "    tokens = [token for token in tokens if token not in stop]\n",
    "    \n",
    "    # removal words less than three letters\n",
    "    tokens = [word for word in tokens if len(word) >=3]\n",
    "    \n",
    "    # lower capitalization\n",
    "    tokens = [word.lower() for word in tokens]\n",
    "    \n",
    "    # lemmatize\n",
    "    lem = WordNetLemmatizer()\n",
    "    tokens = [lem.lemmatize(word) for word in tokens]\n",
    "    \n",
    "    preprocessed_text = ' ' .join(tokens)\n",
    "    \n",
    "    return preprocessed_text"
   ]
  },
  {
   "cell_type": "code",
   "execution_count": 3,
   "metadata": {},
   "outputs": [],
   "source": [
    "with open('SMSSpamCollection') as sms:\n",
    "    sms_data = []\n",
    "    sms_labels = []\n",
    "    \n",
    "    csv_reader = csv.reader(sms, delimiter='\\t')\n",
    "    for line in csv_reader:\n",
    "        # adding the label\n",
    "        sms_labels.append(line[0])\n",
    "    \n",
    "        # adding the data\n",
    "        sms_data.append(preprocessing(line[1]))"
   ]
  },
  {
   "cell_type": "code",
   "execution_count": 4,
   "metadata": {},
   "outputs": [
    {
     "data": {
      "text/plain": [
       "5572"
      ]
     },
     "execution_count": 4,
     "metadata": {},
     "output_type": "execute_result"
    }
   ],
   "source": [
    "len(sms_labels)"
   ]
  },
  {
   "cell_type": "code",
   "execution_count": 5,
   "metadata": {},
   "outputs": [
    {
     "data": {
      "text/plain": [
       "5572"
      ]
     },
     "execution_count": 5,
     "metadata": {},
     "output_type": "execute_result"
    }
   ],
   "source": [
    "len(sms_data)"
   ]
  },
  {
   "cell_type": "markdown",
   "metadata": {},
   "source": [
    "## Machine Learning Model"
   ]
  },
  {
   "cell_type": "code",
   "execution_count": 15,
   "metadata": {},
   "outputs": [],
   "source": [
    "import numpy as np\n",
    "from sklearn.model_selection import train_test_split\n",
    "from sklearn.metrics import classification_report, confusion_matrix"
   ]
  },
  {
   "cell_type": "code",
   "execution_count": 16,
   "metadata": {},
   "outputs": [],
   "source": [
    "X_train, X_test, y_train, y_test = train_test_split(\n",
    "    sms_data, sms_labels, test_size=0.30, random_state=42)"
   ]
  },
  {
   "cell_type": "code",
   "execution_count": 17,
   "metadata": {},
   "outputs": [],
   "source": [
    "from sklearn.feature_extraction.text import TfidfVectorizer\n",
    "\n",
    "vectorizer = TfidfVectorizer(\n",
    "    min_df=2, \n",
    "    ngram_range=(1, 2),  \n",
    "    stop_words='english',  \n",
    "    strip_accents='unicode',  \n",
    "    norm='l2')\n",
    "\n",
    "X_train = vectorizer.fit_transform(X_train)\n",
    "X_test = vectorizer.transform(X_test)"
   ]
  },
  {
   "cell_type": "code",
   "execution_count": 18,
   "metadata": {},
   "outputs": [
    {
     "name": "stdout",
     "output_type": "stream",
     "text": [
      "Train shape:  (3900, 5888)\n",
      "Test shape:  (1672, 5888)\n"
     ]
    }
   ],
   "source": [
    "print('Train shape: ', X_train.shape)\n",
    "print('Test shape: ', X_test.shape)"
   ]
  },
  {
   "cell_type": "markdown",
   "metadata": {},
   "source": [
    "### Decision trees"
   ]
  },
  {
   "cell_type": "code",
   "execution_count": 24,
   "metadata": {},
   "outputs": [
    {
     "name": "stdout",
     "output_type": "stream",
     "text": [
      "Classification report: \n",
      "             precision    recall  f1-score   support\n",
      "\n",
      "        ham       0.97      0.99      0.98      1448\n",
      "       spam       0.92      0.82      0.87       224\n",
      "\n",
      "avg / total       0.97      0.97      0.97      1672\n",
      "\n",
      "Confusion matrix: \n",
      "[[1433   15]\n",
      " [  41  183]]\n"
     ]
    }
   ],
   "source": [
    "from sklearn import tree\n",
    "\n",
    "clf_tree = tree.DecisionTreeClassifier().fit(X_train.toarray(), y_train)\n",
    "y_tree_predict = clf_tree.predict(X_test.toarray())\n",
    "\n",
    "print('Classification report: ')\n",
    "print(classification_report(y_test, y_tree_predict))\n",
    "print('Confusion matrix: ')\n",
    "print(confusion_matrix(y_test, y_tree_predict))"
   ]
  },
  {
   "cell_type": "markdown",
   "metadata": {},
   "source": [
    "### Random forest algorithm"
   ]
  },
  {
   "cell_type": "code",
   "execution_count": 27,
   "metadata": {},
   "outputs": [
    {
     "name": "stdout",
     "output_type": "stream",
     "text": [
      "Classification report: \n",
      "             precision    recall  f1-score   support\n",
      "\n",
      "        ham       0.98      1.00      0.99      1448\n",
      "       spam       0.99      0.85      0.92       224\n",
      "\n",
      "avg / total       0.98      0.98      0.98      1672\n",
      "\n",
      "Confusion matrix: \n",
      "[[1446    2]\n",
      " [  33  191]]\n"
     ]
    }
   ],
   "source": [
    "from sklearn.ensemble import RandomForestClassifier\n",
    "\n",
    "clf_rfc = RandomForestClassifier(n_estimators=10).fit(X_train.toarray(), y_train)\n",
    "y_rfc_predict = clf_rfc.predict(X_test.toarray())\n",
    "\n",
    "print('Classification report: ')\n",
    "print(classification_report(y_test, y_rfc_predict))\n",
    "print('Confusion matrix: ')\n",
    "print(confusion_matrix(y_test, y_rfc_predict))"
   ]
  },
  {
   "cell_type": "markdown",
   "metadata": {},
   "source": [
    "### Support vector machines"
   ]
  },
  {
   "cell_type": "code",
   "execution_count": 25,
   "metadata": {},
   "outputs": [
    {
     "name": "stdout",
     "output_type": "stream",
     "text": [
      "Classification report: \n",
      "             precision    recall  f1-score   support\n",
      "\n",
      "        ham       0.99      1.00      0.99      1448\n",
      "       spam       0.99      0.93      0.96       224\n",
      "\n",
      "avg / total       0.99      0.99      0.99      1672\n",
      "\n",
      "Confusion matrix: \n",
      "[[1445    3]\n",
      " [  16  208]]\n"
     ]
    }
   ],
   "source": [
    "from sklearn.svm import LinearSVC\n",
    "\n",
    "clf_svc = LinearSVC()\n",
    "clf_svc.fit(X_train, y_train)\n",
    "y_predict = clf_svc.predict(X_test)\n",
    "\n",
    "print('Classification report: ')\n",
    "print(classification_report(y_test, y_predict))\n",
    "print('Confusion matrix: ')\n",
    "print(confusion_matrix(y_test, y_predict))"
   ]
  },
  {
   "cell_type": "markdown",
   "metadata": {},
   "source": [
    "## Tensorflow multi-layer neural network"
   ]
  },
  {
   "cell_type": "code",
   "execution_count": 84,
   "metadata": {},
   "outputs": [],
   "source": [
    "from sklearn.preprocessing import OneHotEncoder, LabelEncoder\n",
    "\n",
    "def one_hot_transform(label_data):\n",
    "    l_enc = LabelEncoder()\n",
    "    l_enc.fit(label_data)\n",
    "    one_hot_label = OneHotEncoder(sparse=False).fit_transform(l_enc.transform(label_data).reshape(-1,1))\n",
    "    return one_hot_label\n",
    "\n",
    "new_y_train = one_hot_transform(y_train)\n",
    "new_y_test = one_hot_transform(y_test)"
   ]
  },
  {
   "cell_type": "code",
   "execution_count": 85,
   "metadata": {},
   "outputs": [
    {
     "name": "stdout",
     "output_type": "stream",
     "text": [
      "(3900, 5888)\n",
      "(1672, 5888)\n",
      "(3900, 2)\n",
      "(1672, 2)\n"
     ]
    }
   ],
   "source": [
    "print(X_train.shape)\n",
    "print(X_test.shape)\n",
    "\n",
    "print(new_y_train.shape)\n",
    "print(new_y_test.shape)"
   ]
  },
  {
   "cell_type": "code",
   "execution_count": 106,
   "metadata": {},
   "outputs": [
    {
     "data": {
      "text/plain": [
       "(3900, 5888)"
      ]
     },
     "execution_count": 106,
     "metadata": {},
     "output_type": "execute_result"
    }
   ],
   "source": []
  },
  {
   "cell_type": "code",
   "execution_count": 107,
   "metadata": {},
   "outputs": [
    {
     "name": "stdout",
     "output_type": "stream",
     "text": [
      "Epoch 1 completed out of 10 loss: 192468.23510742188\n",
      "Epoch 2 completed out of 10 loss: 27505.369210004807\n",
      "Epoch 3 completed out of 10 loss: 11215.385077953339\n",
      "Epoch 4 completed out of 10 loss: 3937.876480460167\n",
      "Epoch 5 completed out of 10 loss: 1823.24502658844\n",
      "Epoch 6 completed out of 10 loss: 304.07083892822266\n",
      "Epoch 7 completed out of 10 loss: 230.83144998550415\n",
      "Epoch 8 completed out of 10 loss: 158.57072269916534\n",
      "Epoch 9 completed out of 10 loss: 129.63890075683594\n",
      "Epoch 10 completed out of 10 loss: 97.39441734552383\n",
      "Accuracy: 0.95873207\n"
     ]
    }
   ],
   "source": [
    "import tensorflow as tf\n",
    "import numpy as np\n",
    "\n",
    "train_x,train_y,test_x,test_y = X_train.toarray(), new_y_train, X_test.toarray(), new_y_test\n",
    "\n",
    "n_nodes_hl1 = 1500\n",
    "n_nodes_hl2 = 1500\n",
    "n_nodes_hl3 = 1500\n",
    "\n",
    "n_classes = 2\n",
    "batch_size = 100\n",
    "hm_epochs = 10\n",
    "\n",
    "x = tf.placeholder('float')\n",
    "y = tf.placeholder('float')\n",
    "\n",
    "hidden_1_layer = {'f_fum':n_nodes_hl1,\n",
    "                  'weight':tf.Variable(tf.random_normal([len(train_x[0]), n_nodes_hl1])),\n",
    "                  'bias':tf.Variable(tf.random_normal([n_nodes_hl1]))}\n",
    "\n",
    "hidden_2_layer = {'f_fum':n_nodes_hl2,\n",
    "                  'weight':tf.Variable(tf.random_normal([n_nodes_hl1, n_nodes_hl2])),\n",
    "                  'bias':tf.Variable(tf.random_normal([n_nodes_hl2]))}\n",
    "\n",
    "hidden_3_layer = {'f_fum':n_nodes_hl3,\n",
    "                  'weight':tf.Variable(tf.random_normal([n_nodes_hl2, n_nodes_hl3])),\n",
    "                  'bias':tf.Variable(tf.random_normal([n_nodes_hl3]))}\n",
    "\n",
    "output_layer = {'f_fum':None,\n",
    "                'weight':tf.Variable(tf.random_normal([n_nodes_hl3, n_classes])),\n",
    "                'bias':tf.Variable(tf.random_normal([n_classes])),}\n",
    "\n",
    "\n",
    "# Nothing changes\n",
    "def neural_network_model(data):\n",
    "\n",
    "    l1 = tf.add(tf.matmul(data,hidden_1_layer['weight']), hidden_1_layer['bias'])\n",
    "    l1 = tf.nn.relu(l1)\n",
    "\n",
    "    l2 = tf.add(tf.matmul(l1,hidden_2_layer['weight']), hidden_2_layer['bias'])\n",
    "    l2 = tf.nn.relu(l2)\n",
    "\n",
    "    l3 = tf.add(tf.matmul(l2,hidden_3_layer['weight']), hidden_3_layer['bias'])\n",
    "    l3 = tf.nn.relu(l3)\n",
    "\n",
    "    output = tf.matmul(l3,output_layer['weight']) + output_layer['bias']\n",
    "\n",
    "    return output\n",
    "\n",
    "def train_neural_network(x):\n",
    "    prediction = neural_network_model(x)\n",
    "    cost = tf.reduce_mean( tf.nn.softmax_cross_entropy_with_logits(logits=prediction,labels=y) )\n",
    "    optimizer = tf.train.AdamOptimizer(learning_rate=0.001).minimize(cost)\n",
    "\n",
    "    with tf.Session() as sess:\n",
    "        sess.run(tf.global_variables_initializer())\n",
    "        for epoch in range(hm_epochs):\n",
    "            epoch_loss = 0\n",
    "            i=0\n",
    "            while i < len(train_x):\n",
    "                start = i\n",
    "                end = i+batch_size\n",
    "                batch_x = train_x[start:end]\n",
    "                batch_y = train_y[start:end]\n",
    "\n",
    "                _, c = sess.run([optimizer, cost], feed_dict={x: batch_x, y: batch_y})\n",
    "                epoch_loss += c\n",
    "                i+=batch_size\n",
    "                \n",
    "            print('Epoch', epoch+1, 'completed out of',hm_epochs,'loss:',epoch_loss)\n",
    "        correct = tf.equal(tf.argmax(prediction, 1), tf.argmax(y, 1))\n",
    "        accuracy = tf.reduce_mean(tf.cast(correct, 'float'))\n",
    "\n",
    "        print('Accuracy:',accuracy.eval({x:test_x, y:test_y}))\n",
    "  \n",
    "train_neural_network(x)"
   ]
  },
  {
   "cell_type": "code",
   "execution_count": null,
   "metadata": {},
   "outputs": [],
   "source": []
  }
 ],
 "metadata": {
  "kernelspec": {
   "display_name": "Python 3",
   "language": "python",
   "name": "python3"
  },
  "language_info": {
   "codemirror_mode": {
    "name": "ipython",
    "version": 3
   },
   "file_extension": ".py",
   "mimetype": "text/x-python",
   "name": "python",
   "nbconvert_exporter": "python",
   "pygments_lexer": "ipython3",
   "version": "3.6.4"
  }
 },
 "nbformat": 4,
 "nbformat_minor": 2
}
